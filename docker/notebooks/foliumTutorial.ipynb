{
 "cells": [
  {
   "cell_type": "markdown",
   "metadata": {},
   "source": [
    "# folium <small>Python Data. Leaflet.js Maps.</small> "
   ]
  },
  {
   "cell_type": "markdown",
   "metadata": {},
   "source": [
    "Static maps, like the sort you'd develop for a publication or brochure, are worthwhile for their durability, flexibility, and relative ease in creation. However, in an age where the creation of public-facing research products is demanded by an increasing range of domains (& funding sources), being able to create interactive, web-based, real-time displays of geospatial data is critical. \n",
    "\n",
    "There are myriad ways to approach this challenge. Hard-core web developers can roll their own websites from scratch in Javascript, HTML, and CSS, leveraging their own data APIs and maintaining their own cyberinfrastructure. Hard-core domain researchers can simply put some easy-to-read plots on a simple website and call it a day. Somewhere in between lies the ability to take an already-polished data analysis pipeline in Python and output the geospatial results to a web-friendly map ready to be hosted on a simple static hosting solution (like your departmental web server or Amazon S3). \n",
    "\n",
    "That's the intent of the Python package [`folium`](https://github.com/python-visualization/folium): to combine data objects in Python with a web mapping framework known as Leaflet to produce interactive geospatial data products on the web. "
   ]
  },
  {
   "cell_type": "markdown",
   "metadata": {},
   "source": [
    "## Table of Contents:\n",
    "\n",
    "1. [Folium Basemaps + Tiles]()"
   ]
  },
  {
   "cell_type": "markdown",
   "metadata": {},
   "source": [
    "## Folium Basics\n",
    "\n",
    "As mentioned abou"
   ]
  },
  {
   "cell_type": "code",
   "execution_count": null,
   "metadata": {
    "collapsed": true
   },
   "outputs": [],
   "source": []
  }
 ],
 "metadata": {
  "kernelspec": {
   "display_name": "foliumtutorial",
   "language": "python",
   "name": "foliumtutorial"
  },
  "language_info": {
   "codemirror_mode": {
    "name": "ipython",
    "version": 3
   },
   "file_extension": ".py",
   "mimetype": "text/x-python",
   "name": "python",
   "nbconvert_exporter": "python",
   "pygments_lexer": "ipython3",
   "version": "3.6.2"
  }
 },
 "nbformat": 4,
 "nbformat_minor": 2
}
